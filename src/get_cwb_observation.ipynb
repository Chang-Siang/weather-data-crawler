{
 "cells": [
  {
   "cell_type": "code",
   "execution_count": 1,
   "metadata": {},
   "outputs": [],
   "source": [
    "import os\n",
    "import urllib\n",
    "import datetime\n",
    "import numpy as np\n",
    "import pandas as pd"
   ]
  },
  {
   "cell_type": "markdown",
   "metadata": {},
   "source": [
    "## Const\n",
    "Create path and list website link."
   ]
  },
  {
   "cell_type": "code",
   "execution_count": 2,
   "metadata": {},
   "outputs": [],
   "source": [
    "BATH_PATH = os.path.dirname(os.path.abspath('__file__'))\n",
    "\n",
    "ETC_PATH = os.path.join(BATH_PATH, \"data/central-weather-bureau(observation)\")\n",
    "\n",
    "START = datetime.date(2022, 3, 1)\n",
    "\n",
    "END = datetime.date(2022, 3, 2 + 1)\n",
    "\n",
    "WEBPAGE = \"https://e-service.cwb.gov.tw/wdps/obs/state.htm\""
   ]
  },
  {
   "cell_type": "markdown",
   "metadata": {},
   "source": [
    "## Meta\n",
    "Read webpage and get meta data."
   ]
  },
  {
   "cell_type": "code",
   "execution_count": 3,
   "metadata": {},
   "outputs": [
    {
     "data": {
      "text/html": [
       "<div>\n",
       "<style scoped>\n",
       "    .dataframe tbody tr th:only-of-type {\n",
       "        vertical-align: middle;\n",
       "    }\n",
       "\n",
       "    .dataframe tbody tr th {\n",
       "        vertical-align: top;\n",
       "    }\n",
       "\n",
       "    .dataframe thead th {\n",
       "        text-align: right;\n",
       "    }\n",
       "</style>\n",
       "<table border=\"1\" class=\"dataframe\">\n",
       "  <thead>\n",
       "    <tr style=\"text-align: right;\">\n",
       "      <th></th>\n",
       "      <th>StationID</th>\n",
       "      <th>StationName</th>\n",
       "      <th>Altitude</th>\n",
       "      <th>City</th>\n",
       "      <th>Lon</th>\n",
       "      <th>Lat</th>\n",
       "      <th>Address</th>\n",
       "      <th>StartDate</th>\n",
       "    </tr>\n",
       "  </thead>\n",
       "  <tbody>\n",
       "    <tr>\n",
       "      <th>0</th>\n",
       "      <td>466850</td>\n",
       "      <td>五分山雷達站</td>\n",
       "      <td>756.0</td>\n",
       "      <td>新北市</td>\n",
       "      <td>121.781205</td>\n",
       "      <td>25.071182</td>\n",
       "      <td>瑞芳區靜安路四段1巷1號</td>\n",
       "      <td>1988/07/01</td>\n",
       "    </tr>\n",
       "    <tr>\n",
       "      <th>1</th>\n",
       "      <td>466880</td>\n",
       "      <td>板橋</td>\n",
       "      <td>9.7</td>\n",
       "      <td>新北市</td>\n",
       "      <td>121.442017</td>\n",
       "      <td>24.997647</td>\n",
       "      <td>板橋區大觀路二段265巷62號</td>\n",
       "      <td>2002/01/01</td>\n",
       "    </tr>\n",
       "    <tr>\n",
       "      <th>2</th>\n",
       "      <td>466900</td>\n",
       "      <td>淡水</td>\n",
       "      <td>19.0</td>\n",
       "      <td>新北市</td>\n",
       "      <td>121.448906</td>\n",
       "      <td>25.164889</td>\n",
       "      <td>淡水區中正東路42巷6號</td>\n",
       "      <td>1942/10/01</td>\n",
       "    </tr>\n",
       "  </tbody>\n",
       "</table>\n",
       "</div>"
      ],
      "text/plain": [
       "  StationID StationName  Altitude City         Lon        Lat  \\\n",
       "0    466850      五分山雷達站     756.0  新北市  121.781205  25.071182   \n",
       "1    466880          板橋       9.7  新北市  121.442017  24.997647   \n",
       "2    466900          淡水      19.0  新北市  121.448906  25.164889   \n",
       "\n",
       "           Address   StartDate  \n",
       "0     瑞芳區靜安路四段1巷1號  1988/07/01  \n",
       "1  板橋區大觀路二段265巷62號  2002/01/01  \n",
       "2     淡水區中正東路42巷6號  1942/10/01  "
      ]
     },
     "execution_count": 3,
     "metadata": {},
     "output_type": "execute_result"
    }
   ],
   "source": [
    "# Read html content as DataFrame\n",
    "response = pd.read_html(WEBPAGE)[0] # 0: 現存測站, 1: 已撤銷測站, 2: 暫停供應資料測站\n",
    "\n",
    "# Extract columns of station number, station id, altitude (meter), city, lontitude, latitude, and station address\n",
    "meta = response.loc[:, [\"站號\", \"站名\", \"海拔高度(m)\", \"城市\", \"經度\", \"緯度\", \"地址\", \"資料起始日期\"]]\n",
    "meta = meta.rename(columns={\n",
    "    \"站號\": \"StationID\", \"站名\": \"StationName\", \"海拔高度(m)\": \"Altitude\", \n",
    "    \"城市\": \"City\", \"經度\": \"Lon\", \"緯度\": \"Lat\", \"地址\": \"Address\", \n",
    "    \"資料起始日期\": \"StartDate\"\n",
    "})\n",
    "\n",
    "# Save as meta data \n",
    "meta.to_json(os.path.join(ETC_PATH, \"meta.json\"), orient='records', force_ascii=False)\n",
    "meta.head(3)"
   ]
  },
  {
   "cell_type": "markdown",
   "metadata": {},
   "source": [
    "## Downloader "
   ]
  },
  {
   "cell_type": "code",
   "execution_count": 6,
   "metadata": {},
   "outputs": [],
   "source": [
    "def data_downloader(stn, st_name, date, altitude):\n",
    "    st_name = urllib.parse.quote(urllib.parse.quote(st_name))\n",
    "    url = f\"https://e-service.cwb.gov.tw/HistoryDataQuery/DayDataController.do?command=viewMain&station={stn}&stname={st_name}&datepicker={date}&altitude={altitude}\"\n",
    "    data = pd.read_html(url, encoding='utf-8')[1] # 0: Page Title, 1: Data Content\n",
    "    data.columns = [i[2] for i in np.array(data.columns)] # 0: Short Name, 1: Long Name(tw), 2: Long Name(en) \n",
    "    data.insert(loc=0, column=\"Date\", value=date)\n",
    "    return data"
   ]
  },
  {
   "cell_type": "code",
   "execution_count": 7,
   "metadata": {},
   "outputs": [
    {
     "data": {
      "text/html": [
       "<div>\n",
       "<style scoped>\n",
       "    .dataframe tbody tr th:only-of-type {\n",
       "        vertical-align: middle;\n",
       "    }\n",
       "\n",
       "    .dataframe tbody tr th {\n",
       "        vertical-align: top;\n",
       "    }\n",
       "\n",
       "    .dataframe thead th {\n",
       "        text-align: right;\n",
       "    }\n",
       "</style>\n",
       "<table border=\"1\" class=\"dataframe\">\n",
       "  <thead>\n",
       "    <tr style=\"text-align: right;\">\n",
       "      <th></th>\n",
       "      <th>StationID</th>\n",
       "      <th>StationName</th>\n",
       "      <th>Altitude</th>\n",
       "      <th>City</th>\n",
       "      <th>Lon</th>\n",
       "      <th>Lat</th>\n",
       "      <th>Address</th>\n",
       "      <th>StartDate</th>\n",
       "    </tr>\n",
       "  </thead>\n",
       "  <tbody>\n",
       "    <tr>\n",
       "      <th>0</th>\n",
       "      <td>466850</td>\n",
       "      <td>五分山雷達站</td>\n",
       "      <td>756.0</td>\n",
       "      <td>新北市</td>\n",
       "      <td>121.781205</td>\n",
       "      <td>25.071182</td>\n",
       "      <td>瑞芳區靜安路四段1巷1號</td>\n",
       "      <td>1988/07/01</td>\n",
       "    </tr>\n",
       "    <tr>\n",
       "      <th>1</th>\n",
       "      <td>466880</td>\n",
       "      <td>板橋</td>\n",
       "      <td>9.7</td>\n",
       "      <td>新北市</td>\n",
       "      <td>121.442017</td>\n",
       "      <td>24.997647</td>\n",
       "      <td>板橋區大觀路二段265巷62號</td>\n",
       "      <td>2002/01/01</td>\n",
       "    </tr>\n",
       "    <tr>\n",
       "      <th>2</th>\n",
       "      <td>466900</td>\n",
       "      <td>淡水</td>\n",
       "      <td>19.0</td>\n",
       "      <td>新北市</td>\n",
       "      <td>121.448906</td>\n",
       "      <td>25.164889</td>\n",
       "      <td>淡水區中正東路42巷6號</td>\n",
       "      <td>1942/10/01</td>\n",
       "    </tr>\n",
       "  </tbody>\n",
       "</table>\n",
       "</div>"
      ],
      "text/plain": [
       "  StationID StationName  Altitude City         Lon        Lat  \\\n",
       "0    466850      五分山雷達站     756.0  新北市  121.781205  25.071182   \n",
       "1    466880          板橋       9.7  新北市  121.442017  24.997647   \n",
       "2    466900          淡水      19.0  新北市  121.448906  25.164889   \n",
       "\n",
       "           Address   StartDate  \n",
       "0     瑞芳區靜安路四段1巷1號  1988/07/01  \n",
       "1  板橋區大觀路二段265巷62號  2002/01/01  \n",
       "2     淡水區中正東路42巷6號  1942/10/01  "
      ]
     },
     "execution_count": 7,
     "metadata": {},
     "output_type": "execute_result"
    }
   ],
   "source": [
    "# Read the meta data \n",
    "meta = pd.read_json(os.path.join(ETC_PATH, \"meta.json\"))\n",
    "\n",
    "# Only keep the ground weather stations(^46) and the start date is after then START\n",
    "meta = meta[meta['StationID'].str.contains(\"^46\")].reset_index(drop=True)\n",
    "meta = meta[pd.to_datetime(meta['StartDate']) <= pd.to_datetime(START)].reset_index(drop=True)\n",
    "meta.head(3)"
   ]
  },
  {
   "cell_type": "code",
   "execution_count": null,
   "metadata": {},
   "outputs": [],
   "source": [
    "# According to the list of stations to access to data\n",
    "for i, row in meta.iterrows():\n",
    "    delta = pd.date_range(start=START, end=END).tolist()\n",
    "    data = pd.concat([data_downloader(row[\"StationID\"], row[\"StationName\"], str(date.date()), row[\"Altitude\"]) for date in delta]) \\\n",
    "        .sort_values(['Date', 'ObsTime']) \\\n",
    "        .reset_index(drop=True)\n",
    "    data.insert(loc=1, column=\"Station\", value=row[\"StationID\"])\n",
    "    data.insert(loc=1, column=\"Lat\", value=row[\"Lat\"])\n",
    "    data.insert(loc=1, column=\"Lon\", value=row[\"Lon\"])\n",
    "    data.insert(loc=1, column=\"City\", value=row[\"City\"])\n",
    "    data.to_csv(os.path.join(ETC_PATH, F'{row[\"StationID\"]}.csv'), index=False)\n"
   ]
  }
 ],
 "metadata": {
  "kernelspec": {
   "display_name": "Python 3.9.12 ('tensorflow-gpu')",
   "language": "python",
   "name": "python3"
  },
  "language_info": {
   "codemirror_mode": {
    "name": "ipython",
    "version": 3
   },
   "file_extension": ".py",
   "mimetype": "text/x-python",
   "name": "python",
   "nbconvert_exporter": "python",
   "pygments_lexer": "ipython3",
   "version": "3.9.12"
  },
  "orig_nbformat": 4,
  "vscode": {
   "interpreter": {
    "hash": "1fe34f43cecd3b1506669e990de3780e558c5eb6715cb313146f8f61288c7aab"
   }
  }
 },
 "nbformat": 4,
 "nbformat_minor": 2
}
